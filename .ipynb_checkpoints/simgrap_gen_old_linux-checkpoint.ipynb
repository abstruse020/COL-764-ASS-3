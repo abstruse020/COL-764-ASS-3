{
 "cells": [
  {
   "cell_type": "code",
   "execution_count": 18,
   "id": "cdf86ea9-f7ae-4d9e-9ea9-cbc2bac5dc13",
   "metadata": {},
   "outputs": [],
   "source": [
    "import pandas as pd\n",
    "import numpy as np\n",
    "from nltk.stem.porter import PorterStemmer\n",
    "from nltk.tokenize import word_tokenize\n",
    "import sys\n",
    "import os\n",
    "import datetime"
   ]
  },
  {
   "cell_type": "code",
   "execution_count": 19,
   "id": "f4b99f42-a63c-4520-ab2f-5ccd8f8fe6df",
   "metadata": {},
   "outputs": [],
   "source": [
    "from Vocab_class import TermVocab\n",
    "TVocab = TermVocab()"
   ]
  },
  {
   "cell_type": "code",
   "execution_count": 20,
   "id": "6884ba82-8ad1-4680-893f-011a5926d587",
   "metadata": {},
   "outputs": [
    {
     "name": "stderr",
     "output_type": "stream",
     "text": [
      "[nltk_data] Downloading package punkt to /home/harsh/nltk_data...\n",
      "[nltk_data]   Package punkt is already up-to-date!\n"
     ]
    },
    {
     "data": {
      "text/plain": [
       "True"
      ]
     },
     "execution_count": 20,
     "metadata": {},
     "output_type": "execute_result"
    }
   ],
   "source": [
    "import nltk\n",
    "nltk.download('punkt')"
   ]
  },
  {
   "cell_type": "code",
   "execution_count": 21,
   "id": "aace6e8c-e3a7-4c4d-bd6b-ff6aee6ee80b",
   "metadata": {},
   "outputs": [],
   "source": [
    "coll_dir = '20news-bydate-test'"
   ]
  },
  {
   "cell_type": "code",
   "execution_count": 45,
   "id": "e487c1c5-a06f-45c7-8587-6efc8e18dce5",
   "metadata": {},
   "outputs": [],
   "source": [
    "class genSimGraph:\n",
    "    def __init__(self, coll_dir, op_file):\n",
    "        self.coll_dir = coll_dir\n",
    "        self.op_file = op_file\n",
    "        self.doc_term_dict = None\n",
    "        \n",
    "    def generate_term_set(self):\n",
    "        dont_read = ['61534', '61293', '61556']\n",
    "        limit_file_read_to = 1000\n",
    "        coll_dir = self.coll_dir\n",
    "        doc_term_dict = {}\n",
    "        print('Creating Term set for docs')\n",
    "        ps = PorterStemmer()\n",
    "        file_count = 0\n",
    "        for foldername in os.listdir(coll_dir):\n",
    "            print('For Folder:', foldername)\n",
    "            path_to_file = os.path.join(coll_dir, foldername)\n",
    "            for filename in os.listdir(path_to_file):\n",
    "                file_count+=1\n",
    "                #print('---------------------For File:', filename)\n",
    "                #print('file:', foldername+'/'+filename, end = ' ')\n",
    "                with open(os.path.join(path_to_file, filename), 'r') as f:\n",
    "                    if (filename in dont_read) and foldername =='sci.space':\n",
    "                        continue\n",
    "                        #for line in f:\n",
    "                        #    print(line)\n",
    "                    content = f.read()\n",
    "                    #print(content)\n",
    "                    doc_terms = word_tokenize(content)\n",
    "                    #print(doc_terms)\n",
    "                    stemmed_terms = [ps.stem(term) for term in doc_terms]\n",
    "                    #print('non unique',len(stemmed_terms))\n",
    "                    #print('uniq', len(set(stemmed_terms)))\n",
    "                    doc_term_dict[foldername+'/'+filename] = set(stemmed_terms)\n",
    "                    #[TVocab.add_term(term) for term in stemmed_terms]\n",
    "                    #TVocab.add_term(stemmed_terms[0])\n",
    "                    #print(stemmed_terms)\n",
    "                if file_count>=limit_file_read_to:\n",
    "                    break\n",
    "            if file_count>=limit_file_read_to:\n",
    "                break\n",
    "        print(file_count)\n",
    "        self.doc_term_dict = doc_term_dict\n",
    "        return doc_term_dict\n",
    "        \n",
    "    def jaccard_sim(self):\n",
    "        doc_term_dict = self.doc_term_dict\n",
    "        n = len(doc_term_dict)\n",
    "        for i in range(n):\n",
    "            for j in range(i+1, n):\n",
    "                print('calc similarity for all docs')\n",
    "        return None"
   ]
  },
  {
   "cell_type": "code",
   "execution_count": 46,
   "id": "e77bdd57-10df-4a78-af30-fb3a50c29735",
   "metadata": {},
   "outputs": [],
   "source": [
    "g_sim = genSimGraph(coll_dir, 'sim_op.txt')"
   ]
  },
  {
   "cell_type": "code",
   "execution_count": 47,
   "id": "f8446779-c9ed-4193-ab5c-35436eb164de",
   "metadata": {
    "tags": []
   },
   "outputs": [
    {
     "name": "stdout",
     "output_type": "stream",
     "text": [
      "Creating Term set for docs\n",
      "For Folder: sci.space\n",
      "For Folder: talk.politics.mideast\n",
      "For Folder: talk.religion.misc\n",
      "1000\n"
     ]
    }
   ],
   "source": [
    "doc_term_dict = g_sim.generate_term_set()"
   ]
  },
  {
   "cell_type": "code",
   "execution_count": 8,
   "id": "fd15b041-1c5c-4c57-87b8-1f7cb3be6480",
   "metadata": {
    "tags": []
   },
   "outputs": [
    {
     "ename": "KeyError",
     "evalue": "'alt.atheism/53068'",
     "output_type": "error",
     "traceback": [
      "\u001b[0;31m---------------------------------------------------------------------------\u001b[0m",
      "\u001b[0;31mKeyError\u001b[0m                                  Traceback (most recent call last)",
      "\u001b[0;32m/tmp/ipykernel_15897/3527639969.py\u001b[0m in \u001b[0;36m<module>\u001b[0;34m\u001b[0m\n\u001b[0;32m----> 1\u001b[0;31m \u001b[0mlen\u001b[0m\u001b[0;34m(\u001b[0m\u001b[0mdoc_term_dict\u001b[0m\u001b[0;34m[\u001b[0m\u001b[0;34m'alt.atheism/53068'\u001b[0m\u001b[0;34m]\u001b[0m\u001b[0;34m)\u001b[0m\u001b[0;34m\u001b[0m\u001b[0;34m\u001b[0m\u001b[0m\n\u001b[0m",
      "\u001b[0;31mKeyError\u001b[0m: 'alt.atheism/53068'"
     ]
    }
   ],
   "source": [
    "len(doc_term_dict['alt.atheism/53068'])"
   ]
  },
  {
   "cell_type": "code",
   "execution_count": 40,
   "id": "fee6ec09-0397-41cb-bbf4-49f3132c82a1",
   "metadata": {},
   "outputs": [
    {
     "data": {
      "text/plain": [
       "5"
      ]
     },
     "execution_count": 40,
     "metadata": {},
     "output_type": "execute_result"
    }
   ],
   "source": [
    "len(doc_term_dict)"
   ]
  },
  {
   "cell_type": "code",
   "execution_count": null,
   "id": "1e78996c-f93a-458d-9c92-f450d7e39cf2",
   "metadata": {},
   "outputs": [],
   "source": []
  }
 ],
 "metadata": {
  "kernelspec": {
   "display_name": "Python 3 (ipykernel)",
   "language": "python",
   "name": "python3"
  },
  "language_info": {
   "codemirror_mode": {
    "name": "ipython",
    "version": 3
   },
   "file_extension": ".py",
   "mimetype": "text/x-python",
   "name": "python",
   "nbconvert_exporter": "python",
   "pygments_lexer": "ipython3",
   "version": "3.8.8"
  }
 },
 "nbformat": 4,
 "nbformat_minor": 5
}
